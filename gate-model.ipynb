{
 "cells": [
  {
   "cell_type": "markdown",
   "source": [
    "# Model\n",
    "\n",
    "Radical pairs allegedly play an [essential role in avian magnetoreception](https://github.com/tretyakovmipt/RPM-toy-simulation) and can be thought of as two entangled electron spins separated in space. The pair is created between a donor and acceptor, which can be separate molecules or different parts of a bigger molecule. Initially, both donor and acceptor have a pair of electrons in a singlet state $|\\uparrow\\downarrow\\rangle-|\\downarrow\\uparrow\\rangle$ on the same energy level (fig A).\n",
    "\n",
    "The first step is an excitation of one of the acceptor electrons via optical absorption, preserving the entanglement (fig B). After that, an electron from the donor is transferred to the created vacancy in the acceptor, where it has to form a singlet state with the acceptor electron (fig C). It is presumed that the remaining electrons also form a singlet state."
   ],
   "metadata": {
    "collapsed": false
   }
  },
  {
   "cell_type": "markdown",
   "source": [
    "# Gate Model"
   ],
   "metadata": {
    "collapsed": false
   }
  },
  {
   "cell_type": "code",
   "execution_count": 1,
   "outputs": [],
   "source": [
    "from qiskit import QuantumCircuit, assemble, Aer\n",
    "from math import pi, sqrt\n",
    "from qiskit.visualization import plot_bloch_multivector, plot_histogram\n",
    "\n",
    "sim = Aer.get_backend('aer_simulator') # Quantum gate simulator"
   ],
   "metadata": {
    "collapsed": false
   }
  },
  {
   "cell_type": "markdown",
   "source": [
    "First, let us test how we can create a singlet state for two spins"
   ],
   "metadata": {
    "collapsed": false
   }
  },
  {
   "cell_type": "code",
   "execution_count": 2,
   "outputs": [
    {
     "data": {
      "text/plain": "     ┌───┐┌───┐     \nq_0: ┤ H ├┤ Z ├──■──\n     ├───┤└───┘┌─┴─┐\nq_1: ┤ X ├─────┤ X ├\n     └───┘     └───┘",
      "text/html": "<pre style=\"word-wrap: normal;white-space: pre;background: #fff0;line-height: 1.1;font-family: &quot;Courier New&quot;,Courier,monospace\">     ┌───┐┌───┐     \nq_0: ┤ H ├┤ Z ├──■──\n     ├───┤└───┘┌─┴─┐\nq_1: ┤ X ├─────┤ X ├\n     └───┘     └───┘</pre>"
     },
     "execution_count": 2,
     "metadata": {},
     "output_type": "execute_result"
    }
   ],
   "source": [
    "qc = QuantumCircuit(2) # Initialize a circuit with 2 qubits starting in |0>\n",
    "qc.h(0) # Hadamard gate on qubit 0\n",
    "qc.z(0) # Z-gate on qubit 0\n",
    "qc.x(1) # NOT gate on qubit 1 putting it to state |1>\n",
    "qc.cnot(0,1) # CNOT with qubit 0 as the control\n",
    "qc.draw()"
   ],
   "metadata": {
    "collapsed": false
   }
  },
  {
   "cell_type": "code",
   "execution_count": 3,
   "outputs": [
    {
     "name": "stdout",
     "output_type": "stream",
     "text": [
      "Statevector([ 0.        +0.j, -0.70710678+0.j,  0.70710678+0.j,\n",
      "             -0.        +0.j],\n",
      "            dims=(2, 2))\n"
     ]
    }
   ],
   "source": [
    "# Apply gates and show the result\n",
    "\n",
    "qc.save_statevector()   # Tell simulator to save statevector\n",
    "qobj = assemble(qc)\n",
    "result = sim.run(qobj).result() # Do the simulation and return the result\n",
    "out_state = result.get_statevector()\n",
    "print(out_state) # Display the output state vector"
   ],
   "metadata": {
    "collapsed": false
   }
  },
  {
   "cell_type": "markdown",
   "source": [
    "It's working. Now let's do it for two pairs."
   ],
   "metadata": {
    "collapsed": false
   }
  },
  {
   "cell_type": "code",
   "execution_count": 4,
   "outputs": [
    {
     "data": {
      "text/plain": "     ┌───┐┌───┐     \nq_0: ┤ H ├┤ Z ├──■──\n     ├───┤└───┘┌─┴─┐\nq_1: ┤ X ├─────┤ X ├\n     ├───┤┌───┐└───┘\nq_2: ┤ H ├┤ Z ├──■──\n     ├───┤└───┘┌─┴─┐\nq_3: ┤ X ├─────┤ X ├\n     └───┘     └───┘",
      "text/html": "<pre style=\"word-wrap: normal;white-space: pre;background: #fff0;line-height: 1.1;font-family: &quot;Courier New&quot;,Courier,monospace\">     ┌───┐┌───┐     \nq_0: ┤ H ├┤ Z ├──■──\n     ├───┤└───┘┌─┴─┐\nq_1: ┤ X ├─────┤ X ├\n     ├───┤┌───┐└───┘\nq_2: ┤ H ├┤ Z ├──■──\n     ├───┤└───┘┌─┴─┐\nq_3: ┤ X ├─────┤ X ├\n     └───┘     └───┘</pre>"
     },
     "execution_count": 4,
     "metadata": {},
     "output_type": "execute_result"
    }
   ],
   "source": [
    "qc = QuantumCircuit(4)\n",
    "qc.h(0)\n",
    "qc.z(0)\n",
    "qc.x(1)\n",
    "qc.cnot(0, 1)\n",
    "qc.h(2)\n",
    "qc.z(2)\n",
    "qc.x(3)\n",
    "qc.cnot(2, 3)\n",
    "qc.draw()"
   ],
   "metadata": {
    "collapsed": false
   }
  },
  {
   "cell_type": "markdown",
   "source": [
    "These gate put the system into the state $\\left(|0\\rangle_{0}|1\\rangle_{1} - |1\\rangle_{0}|0\\rangle_{1} \\right] \\otimes \\left[|0\\rangle_{2}|1\\rangle_{3} - |1\\rangle_{2}|0\\rangle_{3} \\right)$. At the end, it should become $\\left(|0\\rangle_{0}|1\\rangle_{3} - |1\\rangle_{0}|0\\rangle_{3} \\right] \\otimes \\left[|0\\rangle_{2}|1\\rangle_{1} - |1\\rangle_{2}|0\\rangle_{1} \\right)$, which can be achieved by SWAP of 1 and 3."
   ],
   "metadata": {
    "collapsed": false
   }
  },
  {
   "cell_type": "code",
   "execution_count": 5,
   "outputs": [
    {
     "data": {
      "text/plain": "     ┌───┐┌───┐        \nq_0: ┤ H ├┤ Z ├──■─────\n     ├───┤└───┘┌─┴─┐   \nq_1: ┤ X ├─────┤ X ├─X─\n     ├───┤┌───┐└───┘ │ \nq_2: ┤ H ├┤ Z ├──■───┼─\n     ├───┤└───┘┌─┴─┐ │ \nq_3: ┤ X ├─────┤ X ├─X─\n     └───┘     └───┘   ",
      "text/html": "<pre style=\"word-wrap: normal;white-space: pre;background: #fff0;line-height: 1.1;font-family: &quot;Courier New&quot;,Courier,monospace\">     ┌───┐┌───┐        \nq_0: ┤ H ├┤ Z ├──■─────\n     ├───┤└───┘┌─┴─┐   \nq_1: ┤ X ├─────┤ X ├─X─\n     ├───┤┌───┐└───┘ │ \nq_2: ┤ H ├┤ Z ├──■───┼─\n     ├───┤└───┘┌─┴─┐ │ \nq_3: ┤ X ├─────┤ X ├─X─\n     └───┘     └───┘   </pre>"
     },
     "execution_count": 5,
     "metadata": {},
     "output_type": "execute_result"
    }
   ],
   "source": [
    "qc.swap(1, 3)\n",
    "qc.draw()"
   ],
   "metadata": {
    "collapsed": false
   }
  },
  {
   "cell_type": "code",
   "execution_count": 6,
   "outputs": [
    {
     "name": "stdout",
     "output_type": "stream",
     "text": [
      "Statevector([ 0. +0.j,  0. +0.j,  0. +0.j, -0.5+0.j, -0. +0.j,  0.5-0.j,\n",
      "             -0. +0.j, -0. +0.j,  0. +0.j,  0. +0.j,  0.5+0.j,  0. +0.j,\n",
      "             -0.5+0.j, -0. +0.j, -0. +0.j, -0. +0.j],\n",
      "            dims=(2, 2, 2, 2))\n"
     ]
    }
   ],
   "source": [
    "# Apply gates and show the result\n",
    "\n",
    "qc.save_statevector()\n",
    "qobj = assemble(qc)\n",
    "result = sim.run(qobj).result()\n",
    "out_state = result.get_statevector()\n",
    "print(out_state)"
   ],
   "metadata": {
    "collapsed": false
   }
  },
  {
   "cell_type": "markdown",
   "source": [
    "Compare to the expected state"
   ],
   "metadata": {
    "collapsed": false
   }
  },
  {
   "cell_type": "code",
   "execution_count": 7,
   "outputs": [
    {
     "data": {
      "text/plain": "     ┌───┐┌───┐          \nq_0: ┤ H ├┤ Z ├──■───────\n     ├───┤└───┘  │  ┌───┐\nq_1: ┤ X ├───────┼──┤ X ├\n     ├───┤┌───┐  │  └─┬─┘\nq_2: ┤ H ├┤ Z ├──┼────■──\n     ├───┤└───┘┌─┴─┐     \nq_3: ┤ X ├─────┤ X ├─────\n     └───┘     └───┘     ",
      "text/html": "<pre style=\"word-wrap: normal;white-space: pre;background: #fff0;line-height: 1.1;font-family: &quot;Courier New&quot;,Courier,monospace\">     ┌───┐┌───┐          \nq_0: ┤ H ├┤ Z ├──■───────\n     ├───┤└───┘  │  ┌───┐\nq_1: ┤ X ├───────┼──┤ X ├\n     ├───┤┌───┐  │  └─┬─┘\nq_2: ┤ H ├┤ Z ├──┼────■──\n     ├───┤└───┘┌─┴─┐     \nq_3: ┤ X ├─────┤ X ├─────\n     └───┘     └───┘     </pre>"
     },
     "execution_count": 7,
     "metadata": {},
     "output_type": "execute_result"
    }
   ],
   "source": [
    "qc = QuantumCircuit(4)\n",
    "qc.h(0)\n",
    "qc.z(0)\n",
    "qc.x(3)\n",
    "qc.cnot(0, 3)\n",
    "qc.h(2)\n",
    "qc.z(2)\n",
    "qc.x(1)\n",
    "qc.cnot(2, 1)\n",
    "qc.draw()"
   ],
   "metadata": {
    "collapsed": false
   }
  },
  {
   "cell_type": "code",
   "execution_count": 8,
   "outputs": [
    {
     "name": "stdout",
     "output_type": "stream",
     "text": [
      "Statevector([ 0. +0.j,  0. +0.j,  0. +0.j, -0.5+0.j, -0. +0.j,  0.5-0.j,\n",
      "             -0. +0.j, -0. +0.j,  0. +0.j,  0. +0.j,  0.5+0.j,  0. +0.j,\n",
      "             -0.5+0.j, -0. +0.j, -0. +0.j, -0. +0.j],\n",
      "            dims=(2, 2, 2, 2))\n"
     ]
    }
   ],
   "source": [
    "qc.save_statevector()\n",
    "qobj = assemble(qc)\n",
    "result = sim.run(qobj).result()\n",
    "out_state = result.get_statevector()\n",
    "print(out_state)"
   ],
   "metadata": {
    "collapsed": false
   }
  },
  {
   "cell_type": "markdown",
   "source": [
    "***\n",
    "Does it mean that the electron transfer is a swap gate??"
   ],
   "metadata": {
    "collapsed": false
   }
  },
  {
   "cell_type": "markdown",
   "source": [],
   "metadata": {
    "collapsed": false
   }
  }
 ],
 "metadata": {
  "kernelspec": {
   "display_name": "Python 3",
   "language": "python",
   "name": "python3"
  },
  "language_info": {
   "codemirror_mode": {
    "name": "ipython",
    "version": 2
   },
   "file_extension": ".py",
   "mimetype": "text/x-python",
   "name": "python",
   "nbconvert_exporter": "python",
   "pygments_lexer": "ipython2",
   "version": "2.7.6"
  }
 },
 "nbformat": 4,
 "nbformat_minor": 0
}
